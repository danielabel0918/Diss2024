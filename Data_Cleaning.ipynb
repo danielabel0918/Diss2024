{
  "nbformat": 4,
  "nbformat_minor": 0,
  "metadata": {
    "colab": {
      "provenance": [],
      "authorship_tag": "ABX9TyN4SXZCWM6DO3Yv+46m91tg",
      "include_colab_link": true
    },
    "kernelspec": {
      "name": "python3",
      "display_name": "Python 3"
    },
    "language_info": {
      "name": "python"
    }
  },
  "cells": [
    {
      "cell_type": "markdown",
      "metadata": {
        "id": "view-in-github",
        "colab_type": "text"
      },
      "source": [
        "<a href=\"https://colab.research.google.com/github/danielabel0918/Diss2024/blob/main/Data_Cleaning.ipynb\" target=\"_parent\"><img src=\"https://colab.research.google.com/assets/colab-badge.svg\" alt=\"Open In Colab\"/></a>"
      ]
    },
    {
      "cell_type": "code",
      "execution_count": null,
      "metadata": {
        "id": "AM3vBX-L9zqq"
      },
      "outputs": [],
      "source": [
        "import pandas as pd\n",
        "import numpy as np"
      ]
    },
    {
      "cell_type": "code",
      "source": [
        "from google.colab import drive\n",
        "drive.mount('/content/gdrive')"
      ],
      "metadata": {
        "colab": {
          "base_uri": "https://localhost:8080/"
        },
        "id": "5-WMdYP9X9qy",
        "outputId": "4d52cac9-6fa0-4069-bfe8-1ba2ebb22278"
      },
      "execution_count": null,
      "outputs": [
        {
          "output_type": "stream",
          "name": "stdout",
          "text": [
            "Mounted at /content/gdrive\n"
          ]
        }
      ]
    },
    {
      "cell_type": "code",
      "source": [
        "df = pd.read_csv('/content/gdrive/MyDrive/upenn/extracted_features1.csv')\n",
        "#df_sorted = df.sort_values(by='graph_id', ascending=True)\n",
        "print(df.head())"
      ],
      "metadata": {
        "colab": {
          "base_uri": "https://localhost:8080/"
        },
        "id": "3VVJeLv2-AII",
        "outputId": "c3536cca-d3ef-4bff-8dbe-e6e7c93b048e"
      },
      "execution_count": null,
      "outputs": [
        {
          "output_type": "stream",
          "name": "stdout",
          "text": [
            "   graph_id         0         1         2         3         4         5  \\\n",
            "0         0  0.013005 -0.127113 -0.169337 -0.440763  0.074613  0.011172   \n",
            "1         1  0.014938  0.073781 -0.463828 -0.471016  0.085643 -0.093982   \n",
            "2         2 -0.021563 -0.391683  0.116697 -0.621150  0.166513 -0.431225   \n",
            "3         3 -0.090607 -0.307828  0.045340 -0.527533  0.020981 -0.267934   \n",
            "4         4 -0.149093 -0.441326 -0.003519 -0.343452  0.211804 -0.176244   \n",
            "\n",
            "          6         7         8  ...        54        55        56        57  \\\n",
            "0  0.060790  0.045912  0.452782  ... -0.257479 -0.107867  0.483994  0.013864   \n",
            "1  0.198185 -1.038034  0.712798  ... -0.372709 -0.071279  0.723055 -0.073610   \n",
            "2 -0.126192  0.711685  0.084621  ... -0.091469 -0.315589  0.606212  0.047784   \n",
            "3  0.120093  0.482106  0.220263  ... -0.033932 -0.183565  0.578033  0.212909   \n",
            "4 -0.162893  0.362699  0.182343  ... -0.001755 -0.123154  0.654378  0.088568   \n",
            "\n",
            "         58        59        60        61        62        63  \n",
            "0  0.098329  0.102531  0.064824 -0.562298 -0.092629  0.121895  \n",
            "1  0.163168  0.026323 -0.040710 -0.771660 -0.101325  0.340170  \n",
            "2  0.214470  0.265521  0.062405 -0.182708 -0.194312  0.085684  \n",
            "3  0.001394  0.002516  0.090615 -0.235069 -0.050808  0.117129  \n",
            "4  0.278916  0.198035  0.063143 -0.120516  0.017217  0.249498  \n",
            "\n",
            "[5 rows x 65 columns]\n"
          ]
        }
      ]
    },
    {
      "cell_type": "code",
      "source": [
        "# Load the IDH_mask_avail_clinic CSV file\n",
        "idh_df = pd.read_csv('/content/gdrive/MyDrive/upenn/IDH_mask_avail_clinic.csv')"
      ],
      "metadata": {
        "id": "3d1T5Uio-vua"
      },
      "execution_count": null,
      "outputs": []
    },
    {
      "cell_type": "code",
      "source": [
        "print(idh_df.head())"
      ],
      "metadata": {
        "colab": {
          "base_uri": "https://localhost:8080/"
        },
        "id": "TV7xa0GZA99r",
        "outputId": "149d0a63-e4d7-438c-841e-37b03f1e8022"
      },
      "execution_count": null,
      "outputs": [
        {
          "output_type": "stream",
          "name": "stdout",
          "text": [
            "  Dataset                  ID       IDH\n",
            "0   upenn  UPENN-GBM-00001_11  Wildtype\n",
            "1   upenn  UPENN-GBM-00002_11  Wildtype\n",
            "2   upenn  UPENN-GBM-00003_11  Wildtype\n",
            "3   upenn  UPENN-GBM-00005_11  Wildtype\n",
            "4   upenn  UPENN-GBM-00006_11  Wildtype\n"
          ]
        }
      ]
    },
    {
      "cell_type": "code",
      "source": [
        "upenn_idh_df = idh_df[idh_df['Dataset'] == 'upenn']\n",
        "print(upenn_idh_df.head())"
      ],
      "metadata": {
        "colab": {
          "base_uri": "https://localhost:8080/"
        },
        "id": "99cEn4X9BCRr",
        "outputId": "094d8451-4e5e-4889-b7ed-844a01a09d27"
      },
      "execution_count": null,
      "outputs": [
        {
          "output_type": "stream",
          "name": "stdout",
          "text": [
            "  Dataset                  ID       IDH\n",
            "0   upenn  UPENN-GBM-00001_11  Wildtype\n",
            "1   upenn  UPENN-GBM-00002_11  Wildtype\n",
            "2   upenn  UPENN-GBM-00003_11  Wildtype\n",
            "3   upenn  UPENN-GBM-00005_11  Wildtype\n",
            "4   upenn  UPENN-GBM-00006_11  Wildtype\n"
          ]
        }
      ]
    },
    {
      "cell_type": "code",
      "source": [
        "# Add the 'ID' column to the sorted DataFrame\n",
        "df['ID'] = upenn_idh_df['ID'].values\n",
        "print(df.head())"
      ],
      "metadata": {
        "colab": {
          "base_uri": "https://localhost:8080/"
        },
        "id": "AiO3oYwnBH_D",
        "outputId": "2ae35783-a847-45c2-ea23-20b66c7221d4"
      },
      "execution_count": null,
      "outputs": [
        {
          "output_type": "stream",
          "name": "stdout",
          "text": [
            "   graph_id         0         1         2         3         4         5  \\\n",
            "0         0  0.013005 -0.127113 -0.169337 -0.440763  0.074613  0.011172   \n",
            "1         1  0.014938  0.073781 -0.463828 -0.471016  0.085643 -0.093982   \n",
            "2         2 -0.021563 -0.391683  0.116697 -0.621150  0.166513 -0.431225   \n",
            "3         3 -0.090607 -0.307828  0.045340 -0.527533  0.020981 -0.267934   \n",
            "4         4 -0.149093 -0.441326 -0.003519 -0.343452  0.211804 -0.176244   \n",
            "\n",
            "          6         7         8  ...        55        56        57        58  \\\n",
            "0  0.060790  0.045912  0.452782  ... -0.107867  0.483994  0.013864  0.098329   \n",
            "1  0.198185 -1.038034  0.712798  ... -0.071279  0.723055 -0.073610  0.163168   \n",
            "2 -0.126192  0.711685  0.084621  ... -0.315589  0.606212  0.047784  0.214470   \n",
            "3  0.120093  0.482106  0.220263  ... -0.183565  0.578033  0.212909  0.001394   \n",
            "4 -0.162893  0.362699  0.182343  ... -0.123154  0.654378  0.088568  0.278916   \n",
            "\n",
            "         59        60        61        62        63                  ID  \n",
            "0  0.102531  0.064824 -0.562298 -0.092629  0.121895  UPENN-GBM-00001_11  \n",
            "1  0.026323 -0.040710 -0.771660 -0.101325  0.340170  UPENN-GBM-00002_11  \n",
            "2  0.265521  0.062405 -0.182708 -0.194312  0.085684  UPENN-GBM-00003_11  \n",
            "3  0.002516  0.090615 -0.235069 -0.050808  0.117129  UPENN-GBM-00005_11  \n",
            "4  0.198035  0.063143 -0.120516  0.017217  0.249498  UPENN-GBM-00006_11  \n",
            "\n",
            "[5 rows x 66 columns]\n"
          ]
        }
      ]
    },
    {
      "cell_type": "code",
      "source": [
        "# Reorder columns\n",
        "column_order = ['graph_id', 'ID'] + [col for col in df.columns if col not in ['graph_id', 'ID']]\n",
        "df_sorted = df[column_order]\n",
        "\n",
        "# Print updated DataFrame\n",
        "print(df_sorted)"
      ],
      "metadata": {
        "colab": {
          "base_uri": "https://localhost:8080/"
        },
        "id": "bSPPxmkNBaDz",
        "outputId": "e881d9de-e29e-491c-946d-40383dd1c5dc"
      },
      "execution_count": null,
      "outputs": [
        {
          "output_type": "stream",
          "name": "stdout",
          "text": [
            "     graph_id                  ID         0         1         2         3  \\\n",
            "0           0  UPENN-GBM-00001_11  0.013005 -0.127113 -0.169337 -0.440763   \n",
            "1           1  UPENN-GBM-00002_11  0.014938  0.073781 -0.463828 -0.471016   \n",
            "2           2  UPENN-GBM-00003_11 -0.021563 -0.391683  0.116697 -0.621150   \n",
            "3           3  UPENN-GBM-00005_11 -0.090607 -0.307828  0.045340 -0.527533   \n",
            "4           4  UPENN-GBM-00006_11 -0.149093 -0.441326 -0.003519 -0.343452   \n",
            "..        ...                 ...       ...       ...       ...       ...   \n",
            "392       392  UPENN-GBM-00605_11 -0.206997 -0.208755  0.773401  0.065206   \n",
            "393       393  UPENN-GBM-00606_11  0.037886 -0.310201  0.230743 -0.336165   \n",
            "394       394  UPENN-GBM-00607_11 -0.017425 -0.025048 -0.405863 -0.438344   \n",
            "395       395  UPENN-GBM-00608_11 -0.196877 -0.446170  0.306823 -0.109522   \n",
            "396       396  UPENN-GBM-00611_11  0.048069 -0.205598 -0.292594 -0.249885   \n",
            "\n",
            "            4         5         6         7  ...        54        55  \\\n",
            "0    0.074613  0.011172  0.060790  0.045912  ... -0.257479 -0.107867   \n",
            "1    0.085643 -0.093982  0.198185 -1.038034  ... -0.372709 -0.071279   \n",
            "2    0.166513 -0.431225 -0.126192  0.711685  ... -0.091469 -0.315589   \n",
            "3    0.020981 -0.267934  0.120093  0.482106  ... -0.033932 -0.183565   \n",
            "4    0.211804 -0.176244 -0.162893  0.362699  ... -0.001755 -0.123154   \n",
            "..        ...       ...       ...       ...  ...       ...       ...   \n",
            "392 -0.431934  0.257705  0.208183  1.749809  ...  0.064736 -0.227785   \n",
            "393 -0.068195 -0.211390  0.165202  1.023439  ...  0.156380 -0.251482   \n",
            "394  0.168982  0.007988  0.082856 -0.751372  ... -0.019013  0.091106   \n",
            "395 -0.114901  0.097972  0.332246  1.094990  ...  0.195929 -0.353380   \n",
            "396  0.171297  0.147665 -0.037236 -0.266591  ... -0.059346 -0.016315   \n",
            "\n",
            "           56        57        58        59        60        61        62  \\\n",
            "0    0.483994  0.013864  0.098329  0.102531  0.064824 -0.562298 -0.092629   \n",
            "1    0.723055 -0.073610  0.163168  0.026323 -0.040710 -0.771660 -0.101325   \n",
            "2    0.606212  0.047784  0.214470  0.265521  0.062405 -0.182708 -0.194312   \n",
            "3    0.578033  0.212909  0.001394  0.002516  0.090615 -0.235069 -0.050808   \n",
            "4    0.654378  0.088568  0.278916  0.198035  0.063143 -0.120516  0.017217   \n",
            "..        ...       ...       ...       ...       ...       ...       ...   \n",
            "392 -0.955100 -0.173363  0.154343  0.072835  0.084099 -0.761947 -0.190798   \n",
            "393  0.542288  0.198707  0.180215  0.152316  0.072679 -0.232416 -0.165888   \n",
            "394  0.777880  0.106735 -0.059291 -0.185836  0.047741 -0.410914  0.105468   \n",
            "395  0.109636 -0.040556  0.009031  0.184486 -0.115919 -0.485964 -0.119002   \n",
            "396  0.389026 -0.086050  0.082967  0.024558 -0.008587 -0.315138  0.048340   \n",
            "\n",
            "           63  \n",
            "0    0.121895  \n",
            "1    0.340170  \n",
            "2    0.085684  \n",
            "3    0.117129  \n",
            "4    0.249498  \n",
            "..        ...  \n",
            "392 -0.114624  \n",
            "393  0.105152  \n",
            "394  0.110153  \n",
            "395 -0.116997  \n",
            "396  0.026639  \n",
            "\n",
            "[397 rows x 66 columns]\n"
          ]
        }
      ]
    },
    {
      "cell_type": "code",
      "source": [
        "df_sorted.to_csv('/content/gdrive/MyDrive/upenn/extracted_features1.csv', index=False)"
      ],
      "metadata": {
        "id": "Kor7893jBtc6"
      },
      "execution_count": null,
      "outputs": []
    }
  ]
}